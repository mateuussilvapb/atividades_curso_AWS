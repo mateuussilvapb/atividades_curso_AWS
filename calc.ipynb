{
  "nbformat": 4,
  "nbformat_minor": 0,
  "metadata": {
    "colab": {
      "provenance": [],
      "authorship_tag": "ABX9TyNgA162YAd3TjPa25wFo5HF",
      "include_colab_link": true
    },
    "kernelspec": {
      "name": "python3",
      "display_name": "Python 3"
    },
    "language_info": {
      "name": "python"
    }
  },
  "cells": [
    {
      "cell_type": "markdown",
      "metadata": {
        "id": "view-in-github",
        "colab_type": "text"
      },
      "source": [
        "<a href=\"https://colab.research.google.com/github/mateuussilvapb/atividades_curso_AWS/blob/calculadora/calc.ipynb\" target=\"_parent\"><img src=\"https://colab.research.google.com/assets/colab-badge.svg\" alt=\"Open In Colab\"/></a>"
      ]
    },
    {
      "cell_type": "code",
      "execution_count": null,
      "metadata": {
        "colab": {
          "base_uri": "https://localhost:8080/"
        },
        "id": "1bG8X7OjRuAy",
        "outputId": "20a1b77f-47bf-48da-8cc9-b075ee70c6ed"
      },
      "outputs": [
        {
          "output_type": "stream",
          "name": "stdout",
          "text": [
            "0.5\n"
          ]
        }
      ],
      "source": [
        "def calc (num1, num2, opr):\n",
        "  match opr:\n",
        "    case 1:\n",
        "      return num1 + num2\n",
        "    case 2:\n",
        "      return num1 - num2\n",
        "    case 3:\n",
        "      return num1 * num2\n",
        "    case 4:\n",
        "      return num1 / num2\n",
        "    case _:\n",
        "      return 0\n",
        "\n",
        "print(calc(1,2,4))"
      ]
    }
  ]
}