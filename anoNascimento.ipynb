{
  "nbformat": 4,
  "nbformat_minor": 0,
  "metadata": {
    "colab": {
      "provenance": [],
      "authorship_tag": "ABX9TyNxFHHoblyS2abyqr+rApqQ",
      "include_colab_link": true
    },
    "kernelspec": {
      "name": "python3",
      "display_name": "Python 3"
    },
    "language_info": {
      "name": "python"
    }
  },
  "cells": [
    {
      "cell_type": "markdown",
      "metadata": {
        "id": "view-in-github",
        "colab_type": "text"
      },
      "source": [
        "<a href=\"https://colab.research.google.com/github/mateuussilvapb/atividades_curso_AWS/blob/anoNascimento/anoNascimento.ipynb\" target=\"_parent\"><img src=\"https://colab.research.google.com/assets/colab-badge.svg\" alt=\"Open In Colab\"/></a>"
      ]
    },
    {
      "cell_type": "markdown",
      "source": [
        "Desenvolva um programa que recebe do usuário nome completo e ano de nascimento que seja entre 1922 e 2021.\n",
        "A partir dessas informações, o sistema mostrará o nome do usuário e a idade que completou, ou completará, no ano atual (2022).\n",
        "\n",
        "Caso o usuário não digite um número ou apareça um inválido no campo do ano, o sistema informará o erro e continuará perguntando até que um valor correto seja preenchido.\n",
        "\n",
        "Trabalhe esse código em seu IDE, suba ele para sua conta no GitHub e compartilhe o link desse projeto no campo ao lado para que outros desenvolvedores possam analisá-lo."
      ],
      "metadata": {
        "id": "dI3W3t8mIXeH"
      }
    },
    {
      "cell_type": "code",
      "source": [
        "def coletarAno():\n",
        "  while True:\n",
        "    try:\n",
        "      anoNascimento = int(input(\"Informe seu ano de nascimento: \"))\n",
        "      if 1922 <= anoNascimento <= 2021:\n",
        "        return anoNascimento\n",
        "      else:\n",
        "        print(\"Ano informado fora dos limites. Informe seu ano de nascimento novamente: \")\n",
        "    except ValueError:\n",
        "      print(\"O ano informado está incorreto. Insira um número inteiro.\")\n",
        "\n",
        "nome = input(\"Informe seu nome completo: \")\n",
        "s\n",
        "anoTratado = int(coletarAno())\n",
        "\n",
        "print(\"Nome: \", nome, \". Idade: \", (2022 - anoTratado))"
      ],
      "metadata": {
        "colab": {
          "base_uri": "https://localhost:8080/"
        },
        "id": "xFLd_GVZIbUm",
        "outputId": "27d7f400-b8fa-42b4-f3e2-0eb5ae58ddb4"
      },
      "execution_count": 6,
      "outputs": [
        {
          "output_type": "stream",
          "name": "stdout",
          "text": [
            "Informe seu nome completo: Mateus\n",
            "Informe seu ano de nascimento: 10\n",
            "Ano informado fora dos limites. Informe seu ano de nascimento novamente: \n",
            "Informe seu ano de nascimento: j\n",
            "O ano informado está incorreto. Insira um número inteiro.\n",
            "Informe seu ano de nascimento: \n",
            "O ano informado está incorreto. Insira um número inteiro.\n",
            "Informe seu ano de nascimento: sa\n",
            "O ano informado está incorreto. Insira um número inteiro.\n",
            "Informe seu ano de nascimento: 20000\n",
            "Ano informado fora dos limites. Informe seu ano de nascimento novamente: \n",
            "Informe seu ano de nascimento: sd\n",
            "O ano informado está incorreto. Insira um número inteiro.\n",
            "Informe seu ano de nascimento: 2021\n",
            "Nome:  Mateus . Idade:  1\n"
          ]
        }
      ]
    }
  ]
}