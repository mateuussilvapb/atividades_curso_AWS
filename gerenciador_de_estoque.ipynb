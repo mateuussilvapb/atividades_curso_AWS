{
  "nbformat": 4,
  "nbformat_minor": 0,
  "metadata": {
    "colab": {
      "provenance": [],
      "authorship_tag": "ABX9TyNgRzyesB2d6G6Os0PN8qNg",
      "include_colab_link": true
    },
    "kernelspec": {
      "name": "python3",
      "display_name": "Python 3"
    },
    "language_info": {
      "name": "python"
    }
  },
  "cells": [
    {
      "cell_type": "markdown",
      "metadata": {
        "id": "view-in-github",
        "colab_type": "text"
      },
      "source": [
        "<a href=\"https://colab.research.google.com/github/mateuussilvapb/atividades_curso_AWS/blob/gerenciadorDeEstoque/gerenciador_de_estoque.ipynb\" target=\"_parent\"><img src=\"https://colab.research.google.com/assets/colab-badge.svg\" alt=\"Open In Colab\"/></a>"
      ]
    },
    {
      "cell_type": "markdown",
      "source": [
        "Projeto gerenciador de estoque"
      ],
      "metadata": {
        "id": "_TKJuX6n2zwo"
      }
    },
    {
      "cell_type": "code",
      "source": [
        "import sys\n",
        "\n",
        "produtos = [\n",
        "    {'nome': 'Arroz', 'unidade': 'pacote', 'quantidade': 10},\n",
        "    {'nome': 'Feijão ', 'unidade': 'pacote', 'quantidade': 20},\n",
        "    {'nome': 'Carne', 'unidade': 'kg', 'quantidade': 5}\n",
        "]\n",
        "print(\"\\nOlá! Seja bem vindo ao seu gerenciador de estoque pessoal.\")\n",
        "\n",
        "def menu():\n",
        "  print(\"\\n==/==/==/==/==/==\\n\")\n",
        "  print(\"Escolha uma das opções abaixo:\")\n",
        "  print(\"1 - Adicionar produto\")\n",
        "  print(\"2 - Remover produto\")\n",
        "  print(\"3 - Remover quantidade de produto\")\n",
        "  print(\"4 - Listar produtos\")\n",
        "  print(\"0 - Sair\")\n",
        "  print(\"\\n==/==/==/==/==/==\\n\")\n",
        "  try:\n",
        "    opcao = int(input(\"Digite a opção desejada: \"))\n",
        "    while opcao < 0 or opcao > 4:\n",
        "      print(\"Opção inválida. Tente novamente.\")\n",
        "      opcao = int(input(\"Digite a opção desejada: \"))\n",
        "    if opcao == 1:\n",
        "      adicionar_produto()\n",
        "    elif opcao == 2:\n",
        "      remover_produto()\n",
        "    elif opcao == 3:\n",
        "      remover_quantidade()\n",
        "    elif opcao == 4:\n",
        "      listar_produtos()\n",
        "    elif opcao == 0:\n",
        "      print(\"Obrigado por usar o gerenciador de estoque!\")\n",
        "      sys.exit()\n",
        "    else:\n",
        "      print(\"Opção inválida. Tente novamente.\")\n",
        "      menu()\n",
        "  except Exception as e:\n",
        "    print(\"Opção inválida. Tente novamente.\")\n",
        "    menu()\n",
        "\n",
        "def adicionar_produto():\n",
        "  try:\n",
        "    nome = input(\"Digite o nome do produto: \")\n",
        "    unidade = input(\"Digite a unidade de medida do produto: \")\n",
        "    quantidade = int(input(\"Digite a quantidade do produto: \"))\n",
        "    produtos.append({'nome': nome, 'unidade': unidade, 'quantidade': quantidade})\n",
        "    listar_produtos()\n",
        "  except Exception as e:\n",
        "    print(\"Os dados informados são inválidos! Tente novamnete.\")\n",
        "    adicionar_produto()\n",
        "\n",
        "def remover_produto():\n",
        "  try:\n",
        "    nome = input(\"Digite o nome do produto a ser removido: \")\n",
        "    removido = False\n",
        "    for produto in produtos:\n",
        "      if produto['nome'] == nome:\n",
        "        produtos.remove(produto)\n",
        "        removido = True\n",
        "        break\n",
        "    if not removido:\n",
        "      print(\"\\n==/==/==/==/==/==\\nProduto não encontrado.\")\n",
        "    listar_produtos()\n",
        "    menu()\n",
        "  except Exception as e:\n",
        "    print(\"O nome do produto é inválido.\")\n",
        "    menu()\n",
        "\n",
        "def remover_quantidade():\n",
        "  try:\n",
        "    nome = input(\"Digite o nome do produto a ser removido: \")\n",
        "    produtoEncontrado = False\n",
        "    for produto in produtos:\n",
        "      if produto['nome'] == nome:\n",
        "        produtoEncontrado = True\n",
        "        quantidade = int(input(\"Digite a quantidade a ser removida: \"))\n",
        "        if quantidade > produto['quantidade']:\n",
        "          print(\"Quantidade insuficiente no estoque.\")\n",
        "        else:\n",
        "          produto['quantidade'] -= quantidade\n",
        "    if not produtoEncontrado:\n",
        "      print(\"\\n==/==/==/==/==/==\\nProduto não encontrado.\")\n",
        "    listar_produtos()\n",
        "  except Exception as e:\n",
        "    print(\"Os dados informados são inválidos. Tente novamente.\")\n",
        "    menu()\n",
        "\n",
        "def listar_produtos():\n",
        "  print(\"\\nProdutos:\")\n",
        "  for produto in produtos:\n",
        "    print(f\"{produto['nome']} ({produto['unidade']}): {produto['quantidade']}\")\n",
        "  menu()\n",
        "\n",
        "menu()"
      ],
      "metadata": {
        "id": "5JjVVcXG23n-"
      },
      "execution_count": null,
      "outputs": []
    }
  ]
}