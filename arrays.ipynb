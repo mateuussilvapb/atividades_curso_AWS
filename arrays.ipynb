{
  "nbformat": 4,
  "nbformat_minor": 0,
  "metadata": {
    "colab": {
      "provenance": [],
      "authorship_tag": "ABX9TyPaeHeCMUiYvotkR1mVqpJs",
      "include_colab_link": true
    },
    "kernelspec": {
      "name": "python3",
      "display_name": "Python 3"
    },
    "language_info": {
      "name": "python"
    }
  },
  "cells": [
    {
      "cell_type": "markdown",
      "metadata": {
        "id": "view-in-github",
        "colab_type": "text"
      },
      "source": [
        "<a href=\"https://colab.research.google.com/github/mateuussilvapb/atividades_curso_AWS/blob/arrays/arrays.ipynb\" target=\"_parent\"><img src=\"https://colab.research.google.com/assets/colab-badge.svg\" alt=\"Open In Colab\"/></a>"
      ]
    },
    {
      "cell_type": "code",
      "execution_count": 1,
      "metadata": {
        "colab": {
          "base_uri": "https://localhost:8080/"
        },
        "id": "UwUlIWQx0QE-",
        "outputId": "bebf3776-2c44-474d-cfe3-c2194dcf75ed"
      },
      "outputs": [
        {
          "output_type": "stream",
          "name": "stdout",
          "text": [
            "['cimento', 'bloco', 'cano', 'telha', 'tinta']\n",
            "[1997, 1995, 1969, 1974, 1989]\n"
          ]
        }
      ],
      "source": [
        "produtos = [\"cimento\", \"bloco\", \"cano\", \"telha\", \"tinta\"]\n",
        "anos_nascimento = [1997, 1995, 1969, 1974, 1989]\n",
        "print(produtos)\n",
        "print(anos_nascimento)"
      ]
    }
  ]
}