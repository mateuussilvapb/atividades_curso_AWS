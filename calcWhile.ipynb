{
  "nbformat": 4,
  "nbformat_minor": 0,
  "metadata": {
    "colab": {
      "provenance": [],
      "authorship_tag": "ABX9TyMxbns0qTricmvv4+5hlI/P",
      "include_colab_link": true
    },
    "kernelspec": {
      "name": "python3",
      "display_name": "Python 3"
    },
    "language_info": {
      "name": "python"
    }
  },
  "cells": [
    {
      "cell_type": "markdown",
      "metadata": {
        "id": "view-in-github",
        "colab_type": "text"
      },
      "source": [
        "<a href=\"https://colab.research.google.com/github/mateuussilvapb/atividades_curso_AWS/blob/calculadoraWhile/calcWhile.ipynb\" target=\"_parent\"><img src=\"https://colab.research.google.com/assets/colab-badge.svg\" alt=\"Open In Colab\"/></a>"
      ]
    },
    {
      "cell_type": "code",
      "execution_count": null,
      "metadata": {
        "id": "Xe3-kbbm-pgh"
      },
      "outputs": [],
      "source": [
        "def calc (num1, num2, opr):\n",
        "  match opr:\n",
        "    case 1:\n",
        "      return num1 + num2\n",
        "    case 2:\n",
        "      return num1 - num2\n",
        "    case 3:\n",
        "      return num1 * num2\n",
        "    case 4:\n",
        "      return num1 / num2\n",
        "    case _:\n",
        "      return 0\n",
        "\n",
        "\n",
        "operacao = 5\n",
        "while operacao != 0:\n",
        "  operacao = int(input(\"\\n\\nInforme a operação desejada.\\n1: Soma\\n2: Subtração\\n3: Multiplicação\\n4: Divisão\\n0: Sair\\n\"))\n",
        "  if (operacao == 0):\n",
        "    break\n",
        "  num1 = 0\n",
        "  num2 = 0\n",
        "  num1 = float(input(\"Informe o primeiro valor: \"))\n",
        "  num2 = float(input(\"Informe o segundo valor: \"))\n",
        "  print(calc(num1, num2, operacao))\n"
      ]
    }
  ]
}